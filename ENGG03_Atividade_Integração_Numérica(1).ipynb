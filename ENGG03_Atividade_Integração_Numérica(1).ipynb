{
  "nbformat": 4,
  "nbformat_minor": 0,
  "metadata": {
    "colab": {
      "provenance": []
    },
    "kernelspec": {
      "name": "python3",
      "display_name": "Python 3"
    },
    "language_info": {
      "name": "python"
    }
  },
  "cells": [
    {
      "cell_type": "markdown",
      "source": [
        "# Probabilidade e estatística\n",
        "\n",
        "As $pdf$ (probaility density functions) determinam a probabilidade de um dado valor pertencer a um intervalo.\n",
        "\n",
        "$$P(x_{\\inf}\\leq x \\leq x_{\\sup}) = \\int_{x_{\\inf}}^{x_{\\sup}} f(x)dx$$\n",
        "onde $f(x)$ é a $pdf$, $x_{\\inf}$ e $x_{\\sup}$ são os valores inferior e superior do intervalo, respecitivamente.\n",
        "\n",
        "Para alguns casos particulares onde a $pdf$ é simétrica em torno da média $\\bar{x}$ a equação anterior pode ser reescrita como:\n",
        "\n",
        "$$P(x_{\\inf}\\leq x \\leq 2\\cdot \\bar{x} - x_{\\inf}) = 1.0 - 2.0\\int_{-\\infty}^{x_{\\inf}} f(x)dx$$\n",
        "onde $x_{\\inf} \\in [-\\infty;\\bar{x}]$ e $\\bar{x} = \\int_{-\\infty}^{+\\infty} x\\cdot f(x) dx$\n",
        "\n",
        "Ao intervalo dado por $[x_{\\inf}, \\leq 2\\cdot \\bar{x} - x_{\\inf}]$, dar-se o nome de intervalo de abrangência  \n",
        "\n",
        "Sabendo isso, calcule o valor de $x_{\\inf}$ para uma $P(x_{\\inf}\\leq x \\leq 2\\cdot \\bar{x} - x_{\\inf})=0.9$ dada a seguinte $pdf$\n",
        "\n",
        "$$ f(x) = \\begin{cases} 4x, \\text{se } 0\\leq x \\leq 0.5 \\\\\n",
        "4 - 4x, \\text{se } 0.5\\leq x \\leq 1\\\\\n",
        "0, \\text{se } x\\leq 0 \\text{ ou }  x \\geq 1\n",
        "\\end{cases}$$"
      ],
      "metadata": {
        "id": "V8no5NQnNdpw"
      }
    },
    {
      "cell_type": "markdown",
      "source": [
        "\n",
        "\n",
        "*   Item da lista\n",
        "*   Item da lista\n",
        "\n"
      ],
      "metadata": {
        "id": "YwITZxoO01Go"
      }
    },
    {
      "cell_type": "markdown",
      "source": [
        "EQUIPE:Danyllo Muritiba Correia,Dyego Muritiba Correia,Eduardo Fontes Baltazar da Silveira,"
      ],
      "metadata": {
        "id": "gOkNMBROAbDT"
      }
    },
    {
      "cell_type": "code",
      "source": [
        "#funcao\n",
        "def f(x):\n",
        "  if 0 <= x <= 0.5:\n",
        "    return 4 * x\n",
        "  elif 0.5 < x <= 1:\n",
        "    return 4 - 4 * x\n",
        "  elif x <= 0 or x >= 1:\n",
        "    return 0\n",
        "import numpy as np\n",
        "#provando que a funcao e simetrica\n",
        "F = np.vectorize(f)\n",
        "x = np.linspace(0, 1, 100)\n",
        "y = F(x)\n",
        "import matplotlib.pyplot as plt\n",
        "plt.plot(x, y)\n",
        "plt.show"
      ],
      "metadata": {
        "colab": {
          "base_uri": "https://localhost:8080/",
          "height": 600
        },
        "id": "JOgRx2o45-FG",
        "outputId": "427ba09f-c03c-4804-b568-b712a58a0851"
      },
      "execution_count": 8,
      "outputs": [
        {
          "output_type": "execute_result",
          "data": {
            "text/plain": [
              "<function matplotlib.pyplot.show(close=None, block=None)>"
            ],
            "text/html": [
              "<div style=\"max-width:800px; border: 1px solid var(--colab-border-color);\"><style>\n",
              "      pre.function-repr-contents {\n",
              "        overflow-x: auto;\n",
              "        padding: 8px 12px;\n",
              "        max-height: 500px;\n",
              "      }\n",
              "\n",
              "      pre.function-repr-contents.function-repr-contents-collapsed {\n",
              "        cursor: pointer;\n",
              "        max-height: 100px;\n",
              "      }\n",
              "    </style>\n",
              "    <pre style=\"white-space: initial; background:\n",
              "         var(--colab-secondary-surface-color); padding: 8px 12px;\n",
              "         border-bottom: 1px solid var(--colab-border-color);\"><b>matplotlib.pyplot.show</b><br/>def show(*args, **kwargs)</pre><pre class=\"function-repr-contents function-repr-contents-collapsed\" style=\"\"><a class=\"filepath\" style=\"display:none\" href=\"#\">/usr/local/lib/python3.10/dist-packages/matplotlib/pyplot.py</a>Display all open figures.\n",
              "\n",
              "Parameters\n",
              "----------\n",
              "block : bool, optional\n",
              "    Whether to wait for all figures to be closed before returning.\n",
              "\n",
              "    If `True` block and run the GUI main loop until all figure windows\n",
              "    are closed.\n",
              "\n",
              "    If `False` ensure that all figure windows are displayed and return\n",
              "    immediately.  In this case, you are responsible for ensuring\n",
              "    that the event loop is running to have responsive figures.\n",
              "\n",
              "    Defaults to True in non-interactive mode and to False in interactive\n",
              "    mode (see `.pyplot.isinteractive`).\n",
              "\n",
              "See Also\n",
              "--------\n",
              "ion : Enable interactive mode, which shows / updates the figure after\n",
              "      every plotting command, so that calling ``show()`` is not necessary.\n",
              "ioff : Disable interactive mode.\n",
              "savefig : Save the figure to an image file instead of showing it on screen.\n",
              "\n",
              "Notes\n",
              "-----\n",
              "**Saving figures to file and showing a window at the same time**\n",
              "\n",
              "If you want an image file as well as a user interface window, use\n",
              "`.pyplot.savefig` before `.pyplot.show`. At the end of (a blocking)\n",
              "``show()`` the figure is closed and thus unregistered from pyplot. Calling\n",
              "`.pyplot.savefig` afterwards would save a new and thus empty figure. This\n",
              "limitation of command order does not apply if the show is non-blocking or\n",
              "if you keep a reference to the figure and use `.Figure.savefig`.\n",
              "\n",
              "**Auto-show in jupyter notebooks**\n",
              "\n",
              "The jupyter backends (activated via ``%matplotlib inline``,\n",
              "``%matplotlib notebook``, or ``%matplotlib widget``), call ``show()`` at\n",
              "the end of every cell by default. Thus, you usually don&#x27;t have to call it\n",
              "explicitly there.</pre>\n",
              "      <script>\n",
              "      if (google.colab.kernel.accessAllowed && google.colab.files && google.colab.files.view) {\n",
              "        for (const element of document.querySelectorAll('.filepath')) {\n",
              "          element.style.display = 'block'\n",
              "          element.onclick = (event) => {\n",
              "            event.preventDefault();\n",
              "            event.stopPropagation();\n",
              "            google.colab.files.view(element.textContent, 401);\n",
              "          };\n",
              "        }\n",
              "      }\n",
              "      for (const element of document.querySelectorAll('.function-repr-contents')) {\n",
              "        element.onclick = (event) => {\n",
              "          event.preventDefault();\n",
              "          event.stopPropagation();\n",
              "          element.classList.toggle('function-repr-contents-collapsed');\n",
              "        };\n",
              "      }\n",
              "      </script>\n",
              "      </div>"
            ]
          },
          "metadata": {},
          "execution_count": 8
        },
        {
          "output_type": "display_data",
          "data": {
            "text/plain": [
              "<Figure size 640x480 with 1 Axes>"
            ],
            "image/png": "[encoded data removed]"
          },
          "metadata": {}
        }
      ]
    },
    {
      "cell_type": "code",
      "source": [
        "import numpy as np\n",
        "from scipy.integrate import quad\n",
        "from scipy.optimize import fsolve\n",
        "\n",
        "\n",
        "#média\n",
        "def calcular_media():\n",
        "    integral = quad(lambda x: x * f(x), -np.inf, np.inf)[0]\n",
        "    return integral\n",
        "\n",
        "media = calcular_media()\n",
        "\n",
        "# integral de -infinito até xinf\n",
        "def integral_inferior(xinf):\n",
        "    integral = quad(f, -np.inf, xinf)[0]\n",
        "    return integral\n",
        "\n",
        "# Função para encontrar o valor de xinf\n",
        "def encontrar_xinf(media):\n",
        "    def func_alvo(xinf):\n",
        "        return 1.0 - 2.0 * integral_inferior(xinf) - 0.9\n",
        "    xinf = fsolve(func_alvo, 0.3)[0]\n",
        "    return xinf\n",
        "\n",
        "# Encontrando xinf\n",
        "xinf = encontrar_xinf(media)\n",
        "\n",
        "print(f\"Média = {media}\")\n",
        "print(f\"xinf: {xinf}\")\n"
      ],
      "metadata": {
        "colab": {
          "base_uri": "https://localhost:8080/"
        },
        "id": "YeG6l5FQ6mLA",
        "outputId": "d8bbf575-ad7b-441e-d28f-47adf43e76df"
      },
      "execution_count": 11,
      "outputs": [
        {
          "output_type": "stream",
          "name": "stdout",
          "text": [
            "Média = 0.4999999999999973\n",
            "xinf: 0.1581138854535435\n"
          ]
        }
      ]
    }
  ]
}
{
  "nbformat": 4,
  "nbformat_minor": 0,
  "metadata": {
    "colab": {
      "provenance": []
    },
    "kernelspec": {
      "name": "python3",
      "display_name": "Python 3"
    },
    "language_info": {
      "name": "python"
    }
  },
  "cells": [
    {
      "cell_type": "markdown",
      "source": [
        "# EDO: Problema de valor de contorno\n",
        "## Método do tiro\n",
        "\n",
        "Assuma a seguinte EDO de segunda ordem que representa a distribuição de calor ao longo de uma barra\n",
        "\n",
        "\\begin{align}\n",
        "\\frac{d^2T}{dx^2} &= k_0 \\left(T(x) - T_s\\right) + k_1 \\left(T^4(x) - T_s^4\\right) \\\\\n",
        "T(0)   &= 493 \\text{K}, ~T(0.1) = 293 \\text{K}\\\\\n",
        "\\end{align}\n",
        "onde $k = [167, ~9.45\\times 10^{-08}]$ são parâmetros do sistema, $T_s=293$K é a temperatura ambiente, $T(x)$ é a Temperatura em função do comprimento, $x$, da barra; $T(0)$ e $T(0.1)$ são as condições de contorno."
      ],
      "metadata": {
        "id": "HHjkCYcTO8pD"
      }
    },
    {
      "cell_type": "markdown",
      "source": [
        "### Redução de ordem\n",
        "\n",
        "Para resolvermos a EDO-PVC, primeiramente vamos transformá-la em um problema PVI, dessa forma é preciso fazermos a redução de ordem\n",
        "\n",
        "\\begin{align}\n",
        "\\frac{dT(x)}{dx} &= w\\\\\n",
        "\\frac{dw(x)}{dx} &= k_0 \\left(T(x) - T_s\\right) + k_1 \\left(T^4(x) - T_s^4\\right)\n",
        "\\end{align}\n",
        "\n",
        "Feito isso, para resolver o sistema de primeira ordem encontrado se faz nescessário as condições iniciais, $T(0)$ e $w(0)$. Porém só conhecemos a condição inicial $T(0) = 493$K, e por isso precisaremos chutar uma condição para $w(0)=?$\n",
        "\n",
        "A partir daí resolvemos o sistema de EDO por um método PVI"
      ],
      "metadata": {
        "id": "gyOoU9jAR6HR"
      }
    },
    {
      "cell_type": "code",
      "source": [
        "#@title Visualização\n",
        "%%html\n",
        "<p align=\"center\">\n",
        "<iframe src=\"https://www.geogebra.org/classic/tnewvaxp?embed\"\n",
        "        width=\"1200\" height=\"700\"\n",
        "        allowfullscreen style=\"border: 1px solid #e4e4e4;border-radius: 4px;\" frameborder=\"0\"></iframe>\n",
        "</p>\n",
        "\n"
      ],
      "metadata": {
        "colab": {
          "base_uri": "https://localhost:8080/",
          "height": 735
        },
        "id": "6QpAh6T8oLmb",
        "outputId": "8777acb5-c923-4f97-ab61-17e310891aed",
        "cellView": "form"
      },
      "execution_count": null,
      "outputs": [
        {
          "output_type": "display_data",
          "data": {
            "text/plain": [
              "<IPython.core.display.HTML object>"
            ],
            "text/html": [
              "<p align=\"center\">\n",
              "<iframe src=\"https://www.geogebra.org/classic/tnewvaxp?embed\"\n",
              "        width=\"1200\" height=\"700\" \n",
              "        allowfullscreen style=\"border: 1px solid #e4e4e4;border-radius: 4px;\" frameborder=\"0\"></iframe>\n",
              "</p>\n",
              "\n"
            ]
          },
          "metadata": {}
        }
      ]
    },
    {
      "cell_type": "markdown",
      "source": [
        "Observe que pelo gráfico, que, para um valor de $w(0) = -1550$, o ultimo valor encontrado pela solução PVI, $T_{pvi}(0.1) = 443.5$, é diferente da condição de contorno dada, $T(0.1) = 293$,\n",
        "\n",
        "Sendo assim temos que mudar o valor de $w(0)$, até fazermos $T_{pvi}(0.1) = T(0.1)$\n",
        "\n",
        "Sendo assim, programe o método do tiro para resolução da EDO apresentada. Compare a solução da EDO para o $w(0)$ chutado com a solução encontrada pelo método do tiro\n",
        "\n"
      ],
      "metadata": {
        "id": "otF-oujRVNFS"
      }
    },
    {
      "cell_type": "markdown",
      "source": [
        "Equipe:\n",
        "* Eduardo Fontes\n",
        "* Dyego Muritiba\n",
        "* Danyllo Muritiba"
      ],
      "metadata": {
        "id": "RrEz40FaI_V1"
      }
    },
    {
      "cell_type": "code",
      "source": [
        "import numpy as np\n",
        "import matplotlib.pyplot as plt\n",
        "from scipy.integrate import solve_ivp\n",
        "from scipy.optimize import fsolve\n",
        "# Redução de ordem da EDO\n",
        "def edo(x, Y):\n",
        "    k = [167.0, 9.45e-8]  # Constantes do sistema\n",
        "    T_s = 293  # Temperatura ambiente\n",
        "    T = Y[0]  # Temperatura\n",
        "    w = Y[1]  # Calor\n",
        "\n",
        "    # EDOs resultantes\n",
        "    dTdx = w\n",
        "    dwdx = k[0] * (T - T_s) + k[1] * (T**4 - T_s**4)\n",
        "    return [dTdx, dwdx]\n",
        "\n",
        "# Função para resolver o problema de valor inicial (PVI) dado um chute inicial para w(0)\n",
        "def solve_pvi(w0):\n",
        "    T0 = 493.0  # Condição inicial para T\n",
        "    x_span = (0, 0.1)  # Intervalo para x\n",
        "    y0 = [T0, w0]  # Condições iniciais\n",
        "\n",
        "    sol = solve_ivp(edo, x_span, y0, t_eval=np.linspace(0, 0.1, 100))\n",
        "    return sol\n",
        "\n",
        "# Função de erro para ajustar a condição inicial w(0)\n",
        "def error_w0(w0):\n",
        "    sol = solve_pvi(w0)\n",
        "    T_final = sol.y[0, -1]  # Valor de T no ponto final do intervalo\n",
        "    return T_final - 293.0  # Condição de contorno desejada T(0.1) = 293\n",
        "\n",
        "# Derivada numérica da função de erro usando diferenças finitas\n",
        "def derivative_error_w0(w0, epsilon=1e-5):\n",
        "    return (error_w0(w0 + epsilon) - error_w0(w0 - epsilon)) / (2 * epsilon)\n",
        "\n",
        "# Método de Newton-Raphson para encontrar o w0 adequado\n",
        "def newton_raphson(initial_guess, tol=1e-5, max_iter=100):\n",
        "    w0 = initial_guess\n",
        "    for i in range(max_iter):\n",
        "        f_w0 = error_w0(w0)\n",
        "        df_w0 = derivative_error_w0(w0)\n",
        "        if abs(f_w0) < tol:\n",
        "            print(f'Convergiu na iteração número: {i}')\n",
        "            return w0\n",
        "        w0 -= f_w0 / df_w0\n",
        "\n",
        "# Chute inicial para w0\n",
        "chuteInicial = 334.0\n",
        "\n",
        "# Encontrar o w0 ótimo usando Newton-Raphson\n",
        "w0_opt = newton_raphson(chuteInicial)\n",
        "\n",
        "# Resolver o sistema com o valor encontrado de w0\n",
        "sol_opt = solve_pvi(w0_opt)\n",
        "\n",
        "# Plotar a solução encontrada\n",
        "plt.plot(sol_opt.t, sol_opt.y[0], label='Método de Newton-Raphson')\n",
        "plt.axhline(y=293, color='r', linestyle='--', label='Cond. Contorno T(0.1)=293')\n",
        "plt.xlabel('x (m)')\n",
        "plt.ylabel('T (K)')\n",
        "plt.title('Distribuição de Temperatura na Barra')\n",
        "plt.legend()\n",
        "plt.show()\n"
      ],
      "metadata": {
        "id": "ijQRtr3YI6O-"
      },
      "execution_count": null,
      "outputs": []
    }
  ]
}